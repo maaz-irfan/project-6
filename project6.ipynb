{
  "nbformat": 4,
  "nbformat_minor": 0,
  "metadata": {
    "colab": {
      "provenance": [],
      "authorship_tag": "ABX9TyMhsGM7Z28t6whq/zC4DFrT",
      "include_colab_link": true
    },
    "kernelspec": {
      "name": "python3",
      "display_name": "Python 3"
    },
    "language_info": {
      "name": "python"
    }
  },
  "cells": [
    {
      "cell_type": "markdown",
      "metadata": {
        "id": "view-in-github",
        "colab_type": "text"
      },
      "source": [
        "<a href=\"https://colab.research.google.com/github/maaz-irfan/project-6/blob/main/project6.ipynb\" target=\"_parent\"><img src=\"https://colab.research.google.com/assets/colab-badge.svg\" alt=\"Open In Colab\"/></a>"
      ]
    },
    {
      "cell_type": "code",
      "execution_count": 2,
      "metadata": {
        "colab": {
          "base_uri": "https://localhost:8080/"
        },
        "id": "1J0DkDjI8jjt",
        "outputId": "6c782d8f-3f7c-4dba-c6fc-cf9e7072e148"
      },
      "outputs": [
        {
          "output_type": "stream",
          "name": "stdout",
          "text": [
            "Enter your guess: 5\n",
            "Too high! Try again.\n",
            "Enter your guess: 7\n",
            "Too high! Try again.\n",
            "Enter your guess: 3\n",
            "Congratulations! You guessed the number in 3 attempts!\n",
            "Welcome to the Guess the Number Game!\n",
            "I'm thinking of a number between 1 and 5.\n"
          ]
        }
      ],
      "source": [
        "# project no :6\n",
        "#countdowm timer\n",
        "import time\n",
        "def countdown(t):\n",
        "    while t > 0:\n",
        "        print(t)\n",
        "        t -= 1\n",
        "        time.sleep(1)\n",
        "    print('time is up')\n",
        "\n",
        "print(\"how many seconds to count down?enter an integer\")\n",
        "second = input()\n",
        "while not second.isdigit():\n",
        "    print(\"please enter an integer\")\n",
        "    second = input()\n",
        "second = int(second)\n",
        "countdown(second)"
      ]
    },
    {
      "cell_type": "code",
      "source": [],
      "metadata": {
        "id": "JsIbFzyN_wB1"
      },
      "execution_count": null,
      "outputs": []
    }
  ]
}